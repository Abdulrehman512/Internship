{
 "cells": [
  {
   "cell_type": "code",
   "execution_count": 23,
   "metadata": {},
   "outputs": [],
   "source": [
    "import pandas as pd\n",
    "import requests"
   ]
  },
  {
   "cell_type": "code",
   "execution_count": 24,
   "metadata": {},
   "outputs": [],
   "source": [
    "response = requests.get('https://api.themoviedb.org/3/movie/top_rated?api_key=8265bd1679663a7ea12ac168da84d2e8&language=en-US&page=1')"
   ]
  },
  {
   "cell_type": "code",
   "execution_count": 25,
   "metadata": {},
   "outputs": [],
   "source": [
    "temp_df = pd.DataFrame(response.json()['results'])[['id','title','overview','release_date','popularity','vote_average','vote_count']]"
   ]
  },
  {
   "cell_type": "code",
   "execution_count": 26,
   "metadata": {},
   "outputs": [
    {
     "data": {
      "text/html": [
       "<div>\n",
       "<style scoped>\n",
       "    .dataframe tbody tr th:only-of-type {\n",
       "        vertical-align: middle;\n",
       "    }\n",
       "\n",
       "    .dataframe tbody tr th {\n",
       "        vertical-align: top;\n",
       "    }\n",
       "\n",
       "    .dataframe thead th {\n",
       "        text-align: right;\n",
       "    }\n",
       "</style>\n",
       "<table border=\"1\" class=\"dataframe\">\n",
       "  <thead>\n",
       "    <tr style=\"text-align: right;\">\n",
       "      <th></th>\n",
       "      <th>id</th>\n",
       "      <th>title</th>\n",
       "      <th>overview</th>\n",
       "      <th>release_date</th>\n",
       "      <th>popularity</th>\n",
       "      <th>vote_average</th>\n",
       "      <th>vote_count</th>\n",
       "    </tr>\n",
       "  </thead>\n",
       "  <tbody>\n",
       "    <tr>\n",
       "      <th>0</th>\n",
       "      <td>278</td>\n",
       "      <td>The Shawshank Redemption</td>\n",
       "      <td>Framed in the 1940s for the double murder of h...</td>\n",
       "      <td>1994-09-23</td>\n",
       "      <td>156.165</td>\n",
       "      <td>8.706</td>\n",
       "      <td>25881</td>\n",
       "    </tr>\n",
       "    <tr>\n",
       "      <th>1</th>\n",
       "      <td>238</td>\n",
       "      <td>The Godfather</td>\n",
       "      <td>Spanning the years 1945 to 1955, a chronicle o...</td>\n",
       "      <td>1972-03-14</td>\n",
       "      <td>123.846</td>\n",
       "      <td>8.695</td>\n",
       "      <td>19642</td>\n",
       "    </tr>\n",
       "    <tr>\n",
       "      <th>2</th>\n",
       "      <td>240</td>\n",
       "      <td>The Godfather Part II</td>\n",
       "      <td>In the continuing saga of the Corleone crime f...</td>\n",
       "      <td>1974-12-20</td>\n",
       "      <td>80.937</td>\n",
       "      <td>8.575</td>\n",
       "      <td>11869</td>\n",
       "    </tr>\n",
       "    <tr>\n",
       "      <th>3</th>\n",
       "      <td>424</td>\n",
       "      <td>Schindler's List</td>\n",
       "      <td>The true story of how businessman Oskar Schind...</td>\n",
       "      <td>1993-12-15</td>\n",
       "      <td>84.830</td>\n",
       "      <td>8.567</td>\n",
       "      <td>15255</td>\n",
       "    </tr>\n",
       "    <tr>\n",
       "      <th>4</th>\n",
       "      <td>389</td>\n",
       "      <td>12 Angry Men</td>\n",
       "      <td>The defense and the prosecution have rested an...</td>\n",
       "      <td>1957-04-10</td>\n",
       "      <td>49.635</td>\n",
       "      <td>8.542</td>\n",
       "      <td>8151</td>\n",
       "    </tr>\n",
       "  </tbody>\n",
       "</table>\n",
       "</div>"
      ],
      "text/plain": [
       "    id                     title  \\\n",
       "0  278  The Shawshank Redemption   \n",
       "1  238             The Godfather   \n",
       "2  240     The Godfather Part II   \n",
       "3  424          Schindler's List   \n",
       "4  389              12 Angry Men   \n",
       "\n",
       "                                            overview release_date  popularity  \\\n",
       "0  Framed in the 1940s for the double murder of h...   1994-09-23     156.165   \n",
       "1  Spanning the years 1945 to 1955, a chronicle o...   1972-03-14     123.846   \n",
       "2  In the continuing saga of the Corleone crime f...   1974-12-20      80.937   \n",
       "3  The true story of how businessman Oskar Schind...   1993-12-15      84.830   \n",
       "4  The defense and the prosecution have rested an...   1957-04-10      49.635   \n",
       "\n",
       "   vote_average  vote_count  \n",
       "0         8.706       25881  \n",
       "1         8.695       19642  \n",
       "2         8.575       11869  \n",
       "3         8.567       15255  \n",
       "4         8.542        8151  "
      ]
     },
     "execution_count": 26,
     "metadata": {},
     "output_type": "execute_result"
    }
   ],
   "source": [
    "temp_df.head()"
   ]
  },
  {
   "cell_type": "code",
   "execution_count": 27,
   "metadata": {},
   "outputs": [],
   "source": [
    "df = pd.DataFrame()"
   ]
  },
  {
   "cell_type": "code",
   "execution_count": 28,
   "metadata": {},
   "outputs": [
    {
     "data": {
      "text/html": [
       "<div>\n",
       "<style scoped>\n",
       "    .dataframe tbody tr th:only-of-type {\n",
       "        vertical-align: middle;\n",
       "    }\n",
       "\n",
       "    .dataframe tbody tr th {\n",
       "        vertical-align: top;\n",
       "    }\n",
       "\n",
       "    .dataframe thead th {\n",
       "        text-align: right;\n",
       "    }\n",
       "</style>\n",
       "<table border=\"1\" class=\"dataframe\">\n",
       "  <thead>\n",
       "    <tr style=\"text-align: right;\">\n",
       "      <th></th>\n",
       "    </tr>\n",
       "  </thead>\n",
       "  <tbody>\n",
       "  </tbody>\n",
       "</table>\n",
       "</div>"
      ],
      "text/plain": [
       "Empty DataFrame\n",
       "Columns: []\n",
       "Index: []"
      ]
     },
     "execution_count": 28,
     "metadata": {},
     "output_type": "execute_result"
    }
   ],
   "source": [
    "df"
   ]
  },
  {
   "cell_type": "code",
   "execution_count": 31,
   "metadata": {},
   "outputs": [
    {
     "name": "stderr",
     "output_type": "stream",
     "text": [
      "C:\\Users\\SC\\AppData\\Local\\Temp\\ipykernel_6120\\2172828981.py:7: FutureWarning: The behavior of DataFrame concatenation with empty or all-NA entries is deprecated. In a future version, this will no longer exclude empty or all-NA columns when determining the result dtypes. To retain the old behavior, exclude the relevant entries before the concat operation.\n",
      "  df = pd.concat([df, temp_df], ignore_index=True)\n"
     ]
    }
   ],
   "source": [
    "df = pd.DataFrame(columns=['id', 'title', 'overview', 'release_date', 'popularity', 'vote_average', 'vote_count'])\n",
    "\n",
    "# Your loop to append data\n",
    "for i in range(1, 429):\n",
    "    response = requests.get('https://api.themoviedb.org/3/movie/top_rated?api_key=8265bd1679663a7ea12ac168da84d2e8&language=en-US&page={}'.format(i))\n",
    "    temp_df = pd.DataFrame(response.json()['results'])[['id','title','overview','release_date','popularity','vote_average','vote_count']]\n",
    "    df = pd.concat([df, temp_df], ignore_index=True)"
   ]
  },
  {
   "cell_type": "code",
   "execution_count": 32,
   "metadata": {},
   "outputs": [
    {
     "data": {
      "text/html": [
       "<div>\n",
       "<style scoped>\n",
       "    .dataframe tbody tr th:only-of-type {\n",
       "        vertical-align: middle;\n",
       "    }\n",
       "\n",
       "    .dataframe tbody tr th {\n",
       "        vertical-align: top;\n",
       "    }\n",
       "\n",
       "    .dataframe thead th {\n",
       "        text-align: right;\n",
       "    }\n",
       "</style>\n",
       "<table border=\"1\" class=\"dataframe\">\n",
       "  <thead>\n",
       "    <tr style=\"text-align: right;\">\n",
       "      <th></th>\n",
       "      <th>id</th>\n",
       "      <th>title</th>\n",
       "      <th>overview</th>\n",
       "      <th>release_date</th>\n",
       "      <th>popularity</th>\n",
       "      <th>vote_average</th>\n",
       "      <th>vote_count</th>\n",
       "    </tr>\n",
       "  </thead>\n",
       "  <tbody>\n",
       "    <tr>\n",
       "      <th>0</th>\n",
       "      <td>278</td>\n",
       "      <td>The Shawshank Redemption</td>\n",
       "      <td>Framed in the 1940s for the double murder of h...</td>\n",
       "      <td>1994-09-23</td>\n",
       "      <td>156.165</td>\n",
       "      <td>8.706</td>\n",
       "      <td>25881</td>\n",
       "    </tr>\n",
       "    <tr>\n",
       "      <th>1</th>\n",
       "      <td>238</td>\n",
       "      <td>The Godfather</td>\n",
       "      <td>Spanning the years 1945 to 1955, a chronicle o...</td>\n",
       "      <td>1972-03-14</td>\n",
       "      <td>123.846</td>\n",
       "      <td>8.695</td>\n",
       "      <td>19642</td>\n",
       "    </tr>\n",
       "    <tr>\n",
       "      <th>2</th>\n",
       "      <td>240</td>\n",
       "      <td>The Godfather Part II</td>\n",
       "      <td>In the continuing saga of the Corleone crime f...</td>\n",
       "      <td>1974-12-20</td>\n",
       "      <td>80.937</td>\n",
       "      <td>8.575</td>\n",
       "      <td>11869</td>\n",
       "    </tr>\n",
       "    <tr>\n",
       "      <th>3</th>\n",
       "      <td>424</td>\n",
       "      <td>Schindler's List</td>\n",
       "      <td>The true story of how businessman Oskar Schind...</td>\n",
       "      <td>1993-12-15</td>\n",
       "      <td>84.830</td>\n",
       "      <td>8.567</td>\n",
       "      <td>15255</td>\n",
       "    </tr>\n",
       "    <tr>\n",
       "      <th>4</th>\n",
       "      <td>389</td>\n",
       "      <td>12 Angry Men</td>\n",
       "      <td>The defense and the prosecution have rested an...</td>\n",
       "      <td>1957-04-10</td>\n",
       "      <td>49.635</td>\n",
       "      <td>8.542</td>\n",
       "      <td>8151</td>\n",
       "    </tr>\n",
       "    <tr>\n",
       "      <th>...</th>\n",
       "      <td>...</td>\n",
       "      <td>...</td>\n",
       "      <td>...</td>\n",
       "      <td>...</td>\n",
       "      <td>...</td>\n",
       "      <td>...</td>\n",
       "      <td>...</td>\n",
       "    </tr>\n",
       "    <tr>\n",
       "      <th>8555</th>\n",
       "      <td>70578</td>\n",
       "      <td>Trespass</td>\n",
       "      <td>Kyle and Sarah Miller have it all: a huge gate...</td>\n",
       "      <td>2011-10-13</td>\n",
       "      <td>19.167</td>\n",
       "      <td>5.514</td>\n",
       "      <td>1098</td>\n",
       "    </tr>\n",
       "    <tr>\n",
       "      <th>8556</th>\n",
       "      <td>385332</td>\n",
       "      <td>Terminal</td>\n",
       "      <td>In the dark heart of a sprawling, anonymous ci...</td>\n",
       "      <td>2018-05-10</td>\n",
       "      <td>16.169</td>\n",
       "      <td>5.500</td>\n",
       "      <td>760</td>\n",
       "    </tr>\n",
       "    <tr>\n",
       "      <th>8557</th>\n",
       "      <td>11523</td>\n",
       "      <td>View from the Top</td>\n",
       "      <td>No one thought Donna would go very far. But wh...</td>\n",
       "      <td>2003-03-21</td>\n",
       "      <td>10.954</td>\n",
       "      <td>5.500</td>\n",
       "      <td>528</td>\n",
       "    </tr>\n",
       "    <tr>\n",
       "      <th>8558</th>\n",
       "      <td>313943</td>\n",
       "      <td>Revolt</td>\n",
       "      <td>The story of humankind's last stand against a ...</td>\n",
       "      <td>2017-07-01</td>\n",
       "      <td>17.728</td>\n",
       "      <td>5.500</td>\n",
       "      <td>347</td>\n",
       "    </tr>\n",
       "    <tr>\n",
       "      <th>8559</th>\n",
       "      <td>11817</td>\n",
       "      <td>Bulletproof Monk</td>\n",
       "      <td>A mysterious and immortal Tibetan kung fu mast...</td>\n",
       "      <td>2003-03-28</td>\n",
       "      <td>19.228</td>\n",
       "      <td>5.512</td>\n",
       "      <td>871</td>\n",
       "    </tr>\n",
       "  </tbody>\n",
       "</table>\n",
       "<p>8560 rows × 7 columns</p>\n",
       "</div>"
      ],
      "text/plain": [
       "          id                     title  \\\n",
       "0        278  The Shawshank Redemption   \n",
       "1        238             The Godfather   \n",
       "2        240     The Godfather Part II   \n",
       "3        424          Schindler's List   \n",
       "4        389              12 Angry Men   \n",
       "...      ...                       ...   \n",
       "8555   70578                  Trespass   \n",
       "8556  385332                  Terminal   \n",
       "8557   11523         View from the Top   \n",
       "8558  313943                    Revolt   \n",
       "8559   11817          Bulletproof Monk   \n",
       "\n",
       "                                               overview release_date  \\\n",
       "0     Framed in the 1940s for the double murder of h...   1994-09-23   \n",
       "1     Spanning the years 1945 to 1955, a chronicle o...   1972-03-14   \n",
       "2     In the continuing saga of the Corleone crime f...   1974-12-20   \n",
       "3     The true story of how businessman Oskar Schind...   1993-12-15   \n",
       "4     The defense and the prosecution have rested an...   1957-04-10   \n",
       "...                                                 ...          ...   \n",
       "8555  Kyle and Sarah Miller have it all: a huge gate...   2011-10-13   \n",
       "8556  In the dark heart of a sprawling, anonymous ci...   2018-05-10   \n",
       "8557  No one thought Donna would go very far. But wh...   2003-03-21   \n",
       "8558  The story of humankind's last stand against a ...   2017-07-01   \n",
       "8559  A mysterious and immortal Tibetan kung fu mast...   2003-03-28   \n",
       "\n",
       "      popularity  vote_average vote_count  \n",
       "0        156.165         8.706      25881  \n",
       "1        123.846         8.695      19642  \n",
       "2         80.937         8.575      11869  \n",
       "3         84.830         8.567      15255  \n",
       "4         49.635         8.542       8151  \n",
       "...          ...           ...        ...  \n",
       "8555      19.167         5.514       1098  \n",
       "8556      16.169         5.500        760  \n",
       "8557      10.954         5.500        528  \n",
       "8558      17.728         5.500        347  \n",
       "8559      19.228         5.512        871  \n",
       "\n",
       "[8560 rows x 7 columns]"
      ]
     },
     "execution_count": 32,
     "metadata": {},
     "output_type": "execute_result"
    }
   ],
   "source": [
    "df"
   ]
  },
  {
   "cell_type": "code",
   "execution_count": 33,
   "metadata": {},
   "outputs": [
    {
     "data": {
      "text/plain": [
       "(8560, 7)"
      ]
     },
     "execution_count": 33,
     "metadata": {},
     "output_type": "execute_result"
    }
   ],
   "source": [
    "df.shape"
   ]
  },
  {
   "cell_type": "code",
   "execution_count": 34,
   "metadata": {},
   "outputs": [],
   "source": [
    "df.to_csv('movies.csv')"
   ]
  },
  {
   "cell_type": "code",
   "execution_count": null,
   "metadata": {},
   "outputs": [],
   "source": []
  }
 ],
 "metadata": {
  "kernelspec": {
   "display_name": "base",
   "language": "python",
   "name": "python3"
  },
  "language_info": {
   "codemirror_mode": {
    "name": "ipython",
    "version": 3
   },
   "file_extension": ".py",
   "mimetype": "text/x-python",
   "name": "python",
   "nbconvert_exporter": "python",
   "pygments_lexer": "ipython3",
   "version": "3.11.5"
  }
 },
 "nbformat": 4,
 "nbformat_minor": 2
}
