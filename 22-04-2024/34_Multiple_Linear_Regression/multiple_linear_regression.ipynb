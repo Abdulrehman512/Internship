{
 "cells": [
  {
   "cell_type": "code",
   "execution_count": 1,
   "metadata": {},
   "outputs": [],
   "source": [
    "from sklearn.datasets import make_regression\n",
    "import pandas as pd\n",
    "import numpy as np\n",
    "\n",
    "import plotly.express as px\n",
    "import plotly.graph_objects as go\n",
    "\n",
    "from sklearn.metrics import mean_absolute_error,mean_squared_error,r2_score"
   ]
  },
  {
   "cell_type": "code",
   "execution_count": 2,
   "metadata": {},
   "outputs": [],
   "source": [
    "X,y = make_regression(n_samples=100, n_features=2, n_informative=2, n_targets=1, noise=50)"
   ]
  },
  {
   "cell_type": "code",
   "execution_count": 3,
   "metadata": {},
   "outputs": [],
   "source": [
    "df = pd.DataFrame({'feature1':X[:,0],'feature2':X[:,1],'target':y})"
   ]
  },
  {
   "cell_type": "code",
   "execution_count": 4,
   "metadata": {},
   "outputs": [
    {
     "data": {
      "text/plain": [
       "(100, 3)"
      ]
     },
     "execution_count": 4,
     "metadata": {},
     "output_type": "execute_result"
    }
   ],
   "source": [
    "\n",
    "df.shape"
   ]
  },
  {
   "cell_type": "code",
   "execution_count": 5,
   "metadata": {},
   "outputs": [
    {
     "data": {
      "text/html": [
       "<div>\n",
       "<style scoped>\n",
       "    .dataframe tbody tr th:only-of-type {\n",
       "        vertical-align: middle;\n",
       "    }\n",
       "\n",
       "    .dataframe tbody tr th {\n",
       "        vertical-align: top;\n",
       "    }\n",
       "\n",
       "    .dataframe thead th {\n",
       "        text-align: right;\n",
       "    }\n",
       "</style>\n",
       "<table border=\"1\" class=\"dataframe\">\n",
       "  <thead>\n",
       "    <tr style=\"text-align: right;\">\n",
       "      <th></th>\n",
       "      <th>feature1</th>\n",
       "      <th>feature2</th>\n",
       "      <th>target</th>\n",
       "    </tr>\n",
       "  </thead>\n",
       "  <tbody>\n",
       "    <tr>\n",
       "      <th>0</th>\n",
       "      <td>-0.219453</td>\n",
       "      <td>0.980886</td>\n",
       "      <td>44.788355</td>\n",
       "    </tr>\n",
       "    <tr>\n",
       "      <th>1</th>\n",
       "      <td>1.459803</td>\n",
       "      <td>0.059981</td>\n",
       "      <td>152.549240</td>\n",
       "    </tr>\n",
       "    <tr>\n",
       "      <th>2</th>\n",
       "      <td>-0.526434</td>\n",
       "      <td>0.707353</td>\n",
       "      <td>66.113060</td>\n",
       "    </tr>\n",
       "    <tr>\n",
       "      <th>3</th>\n",
       "      <td>-2.787843</td>\n",
       "      <td>1.709136</td>\n",
       "      <td>-256.791149</td>\n",
       "    </tr>\n",
       "    <tr>\n",
       "      <th>4</th>\n",
       "      <td>0.599953</td>\n",
       "      <td>0.866602</td>\n",
       "      <td>36.756197</td>\n",
       "    </tr>\n",
       "  </tbody>\n",
       "</table>\n",
       "</div>"
      ],
      "text/plain": [
       "   feature1  feature2      target\n",
       "0 -0.219453  0.980886   44.788355\n",
       "1  1.459803  0.059981  152.549240\n",
       "2 -0.526434  0.707353   66.113060\n",
       "3 -2.787843  1.709136 -256.791149\n",
       "4  0.599953  0.866602   36.756197"
      ]
     },
     "execution_count": 5,
     "metadata": {},
     "output_type": "execute_result"
    }
   ],
   "source": [
    "df.head()"
   ]
  },
  {
   "cell_type": "code",
   "execution_count": 6,
   "metadata": {},
   "outputs": [
    {
     "data": {
      "application/vnd.plotly.v1+json": {
       "config": {
        "plotlyServerURL": "https://plot.ly"
       },
       "data": [
        {
         "hovertemplate": "feature1=%{x}<br>feature2=%{y}<br>target=%{z}<extra></extra>",
         "legendgroup": "",
         "marker": {
          "color": "#636efa",
          "symbol": "circle"
         },
         "mode": "markers",
         "name": "",
         "scene": "scene",
         "showlegend": false,
         "type": "scatter3d",
         "x": [
          -0.2194525108253655,
          1.4598030771360684,
          -0.5264335221621064,
          -2.7878434595382835,
          0.5999528399186149,
          0.38224584808278833,
          0.6955916065791051,
          0.16005745418843623,
          2.245956802315152,
          -1.9884410578759681,
          1.1334479781140794,
          -0.7517885139560544,
          -0.24458116974838953,
          0.09522401786227537,
          -0.682330777655981,
          0.0714289520675154,
          0.16796340857714134,
          -0.22625659429066472,
          0.4990063522451327,
          -0.8726173826662146,
          0.7385367386647714,
          -1.5995597869085543,
          1.633188474319969,
          1.021079989114177,
          -0.4758362314415133,
          1.187762351510945,
          1.6961637767448623,
          -0.46311855077343933,
          0.14740931104528274,
          -0.17080865018204572,
          -0.2398100816284543,
          -0.6602226961195281,
          0.24386443223597104,
          0.27222764305387,
          -1.2981942511043205,
          2.089152083012286,
          2.5662775457799034,
          0.35721192616082287,
          0.1096925902807711,
          1.5084418098559411,
          -0.15456498040282995,
          -1.6290539313601866,
          -0.6962764571912998,
          1.5814622780268597,
          -0.6800947744483188,
          0.7495602235195333,
          -0.10826811470447528,
          0.3923123867696605,
          0.4854778151747179,
          0.9051848950047644,
          -0.38641313957398365,
          0.23354368073743872,
          -0.6277738686516129,
          0.6339016813697914,
          0.7855896471367083,
          0.017470973599318693,
          0.6845490682914305,
          -0.48039244672827236,
          -0.5890458130272571,
          1.0179829876071127,
          1.0458272255437089,
          -1.1977265589736987,
          -1.601113717383579,
          -1.3416007186877197,
          -1.8456488303972913,
          1.8907529971975365,
          -1.949503751064469,
          0.6106240330562046,
          1.2036475638907334,
          -1.511625049185974,
          0.8438525727428325,
          1.469472647982059,
          0.2947767939216705,
          -0.245188787568309,
          -0.30887493345915185,
          -0.42693905644786123,
          -0.9348006289989841,
          0.06952079131317793,
          -0.32532900196675474,
          0.8653969002366891,
          -0.6208925322194317,
          -0.4768398637106354,
          -0.670500960579108,
          1.0670645013010656,
          -1.0133378369813832,
          -0.2967881802532062,
          -1.9374836671416538,
          -0.29441620974945115,
          -0.3113338275744991,
          0.12350350393025272,
          0.44200957294855725,
          0.13528327369529633,
          0.5728718889677848,
          1.1717302695377894,
          1.5660661008222458,
          -0.22847990258660678,
          -0.45176922277844,
          0.18204021304256718,
          0.08875793812790696,
          0.7315919456616538
         ],
         "y": [
          0.9808861203648591,
          0.05998054996586914,
          0.7073532280250123,
          1.7091363587817736,
          0.866601541451097,
          -1.3621420172776364,
          0.15933349961189447,
          -0.17429402745554737,
          -0.27948282897781784,
          0.4722217425612931,
          -1.7299309629370356,
          -2.4421694024125014,
          -0.4963022602505653,
          -0.5575113818609055,
          -1.0634027025251975,
          0.5385246602824363,
          0.793013564097056,
          0.27754401056547057,
          0.2931458788088806,
          0.4098324362747184,
          -0.5074293768535854,
          1.5454195038052287,
          1.410023002945163,
          0.35047417683573695,
          -1.1605118804247492,
          -0.17845644205211786,
          -0.845613967321558,
          1.0127647627464837,
          -0.3502133430785677,
          0.2259000304519556,
          0.5570386666585484,
          0.22301781570841317,
          0.7544941032030427,
          2.462184861966843,
          0.9220015089606269,
          1.1247462023691492,
          1.168464527859563,
          1.5573313715754888,
          -0.057766144681555796,
          1.7615393582533414,
          -1.0154674166544657,
          -1.9376325162727068,
          0.44288879750702803,
          -0.6238666967624055,
          -1.1477182013202403,
          -0.4326393590854077,
          0.1664700215565202,
          0.34594524885488415,
          -1.461974181338331,
          -0.6593605410664857,
          2.155482107215342,
          -1.5684631471280424,
          0.023347739532423896,
          1.7914160073769256,
          0.6539413312436643,
          -2.5023625482989083,
          -0.8527547144387444,
          1.5304866284366663,
          -0.9465818686790037,
          -0.21470377633424403,
          1.1123667362764336,
          -0.20101223487873232,
          0.15719370916754688,
          1.0986930841724811,
          1.1490899071714629,
          -0.1088571682545712,
          1.0281948156882066,
          -0.7340191620823202,
          0.043166789176677475,
          -0.23363456704060867,
          0.7200724317499924,
          -0.8971965379232979,
          1.5527630793356275,
          -0.14294704680979414,
          0.07313865104786833,
          -2.0337857409846403,
          0.5553429310596895,
          -0.2832562235046289,
          -1.0299093943802944,
          1.0612385596025524,
          0.33229571679633374,
          1.5473715922146851,
          1.7068592916204315,
          -0.5536545634738558,
          0.3867106967302125,
          0.39337007208061775,
          -0.6378085378038925,
          1.2962839408130635,
          -0.14551905329265533,
          0.6852675677690121,
          0.01795593728847569,
          -0.14851621413211027,
          -1.4724394490326267,
          0.07096417465495426,
          0.730336284297236,
          1.143354998428486,
          0.40633145194626114,
          -0.7937978266649238,
          0.08319237676681661,
          -0.49256487936024784
         ],
         "z": [
          44.788355429199214,
          152.54924016882808,
          66.11306010440089,
          -256.7911485591625,
          36.75619669522009,
          -69.57856438338337,
          -0.24608667837620146,
          -40.68019788081392,
          160.88964145291112,
          -122.94778494082091,
          9.79085639469173,
          -108.46491570078841,
          14.776435443183793,
          54.56890488872075,
          -111.95270371367353,
          45.903925528551966,
          163.13008493576663,
          -0.48060990481934596,
          -36.486642859522355,
          -123.21869894137511,
          30.295136222653507,
          -58.78195433796476,
          126.51898640654662,
          53.5841522466555,
          -148.92969706676362,
          145.95679943297105,
          50.88236337407233,
          -14.45236913901826,
          -32.17511539400083,
          -0.7729549794708888,
          -6.309678845495934,
          32.07985646085299,
          52.52637125128368,
          78.93479065344776,
          -86.99611398393951,
          238.7405523026176,
          289.45845092889067,
          67.62786107306574,
          -45.532999378136324,
          178.01417581715748,
          -53.02127072686004,
          -188.7105203616682,
          -87.66784084234253,
          161.34967435023896,
          -165.6316330960095,
          92.97505769337658,
          -17.925328538425603,
          13.935059767022487,
          -53.17165136443526,
          57.55686132883456,
          -58.67057917700033,
          -38.45844318105196,
          -42.78062053324497,
          136.36200379188497,
          105.26170423038968,
          -107.86730020285762,
          14.325041165107635,
          37.996910772927784,
          -132.85857223057957,
          83.67299852081685,
          135.88689726925398,
          -116.02556818248063,
          -97.34686890702932,
          -84.58829384507948,
          -179.91775768258373,
          94.33705358602523,
          -104.32778993168891,
          8.75922803949748,
          44.27309164560462,
          -203.80224524876354,
          32.32175578118829,
          120.75652976202714,
          -2.360464429751545,
          -76.56143521850183,
          -72.09612095701483,
          -144.2868390477265,
          -48.72207046962918,
          -25.46910816230127,
          -82.24778788775711,
          124.40213183675158,
          -73.04706321536112,
          -101.68263764729096,
          -97.75401438547217,
          56.44405344680301,
          -27.206923784702298,
          38.8892382234807,
          -185.00033035389137,
          -5.745768611567228,
          -67.7326116808831,
          -5.362821317895563,
          35.72930855505401,
          -130.0503041966047,
          -3.502825800701327,
          108.41512401946805,
          142.47857699639715,
          60.343382821048905,
          69.55873610207838,
          -42.939154240412165,
          1.746236503214103,
          78.16049933365765
         ]
        }
       ],
       "layout": {
        "legend": {
         "tracegroupgap": 0
        },
        "margin": {
         "t": 60
        },
        "scene": {
         "domain": {
          "x": [
           0,
           1
          ],
          "y": [
           0,
           1
          ]
         },
         "xaxis": {
          "title": {
           "text": "feature1"
          }
         },
         "yaxis": {
          "title": {
           "text": "feature2"
          }
         },
         "zaxis": {
          "title": {
           "text": "target"
          }
         }
        },
        "template": {
         "data": {
          "bar": [
           {
            "error_x": {
             "color": "#2a3f5f"
            },
            "error_y": {
             "color": "#2a3f5f"
            },
            "marker": {
             "line": {
              "color": "#E5ECF6",
              "width": 0.5
             },
             "pattern": {
              "fillmode": "overlay",
              "size": 10,
              "solidity": 0.2
             }
            },
            "type": "bar"
           }
          ],
          "barpolar": [
           {
            "marker": {
             "line": {
              "color": "#E5ECF6",
              "width": 0.5
             },
             "pattern": {
              "fillmode": "overlay",
              "size": 10,
              "solidity": 0.2
             }
            },
            "type": "barpolar"
           }
          ],
          "carpet": [
           {
            "aaxis": {
             "endlinecolor": "#2a3f5f",
             "gridcolor": "white",
             "linecolor": "white",
             "minorgridcolor": "white",
             "startlinecolor": "#2a3f5f"
            },
            "baxis": {
             "endlinecolor": "#2a3f5f",
             "gridcolor": "white",
             "linecolor": "white",
             "minorgridcolor": "white",
             "startlinecolor": "#2a3f5f"
            },
            "type": "carpet"
           }
          ],
          "choropleth": [
           {
            "colorbar": {
             "outlinewidth": 0,
             "ticks": ""
            },
            "type": "choropleth"
           }
          ],
          "contour": [
           {
            "colorbar": {
             "outlinewidth": 0,
             "ticks": ""
            },
            "colorscale": [
             [
              0,
              "#0d0887"
             ],
             [
              0.1111111111111111,
              "#46039f"
             ],
             [
              0.2222222222222222,
              "#7201a8"
             ],
             [
              0.3333333333333333,
              "#9c179e"
             ],
             [
              0.4444444444444444,
              "#bd3786"
             ],
             [
              0.5555555555555556,
              "#d8576b"
             ],
             [
              0.6666666666666666,
              "#ed7953"
             ],
             [
              0.7777777777777778,
              "#fb9f3a"
             ],
             [
              0.8888888888888888,
              "#fdca26"
             ],
             [
              1,
              "#f0f921"
             ]
            ],
            "type": "contour"
           }
          ],
          "contourcarpet": [
           {
            "colorbar": {
             "outlinewidth": 0,
             "ticks": ""
            },
            "type": "contourcarpet"
           }
          ],
          "heatmap": [
           {
            "colorbar": {
             "outlinewidth": 0,
             "ticks": ""
            },
            "colorscale": [
             [
              0,
              "#0d0887"
             ],
             [
              0.1111111111111111,
              "#46039f"
             ],
             [
              0.2222222222222222,
              "#7201a8"
             ],
             [
              0.3333333333333333,
              "#9c179e"
             ],
             [
              0.4444444444444444,
              "#bd3786"
             ],
             [
              0.5555555555555556,
              "#d8576b"
             ],
             [
              0.6666666666666666,
              "#ed7953"
             ],
             [
              0.7777777777777778,
              "#fb9f3a"
             ],
             [
              0.8888888888888888,
              "#fdca26"
             ],
             [
              1,
              "#f0f921"
             ]
            ],
            "type": "heatmap"
           }
          ],
          "heatmapgl": [
           {
            "colorbar": {
             "outlinewidth": 0,
             "ticks": ""
            },
            "colorscale": [
             [
              0,
              "#0d0887"
             ],
             [
              0.1111111111111111,
              "#46039f"
             ],
             [
              0.2222222222222222,
              "#7201a8"
             ],
             [
              0.3333333333333333,
              "#9c179e"
             ],
             [
              0.4444444444444444,
              "#bd3786"
             ],
             [
              0.5555555555555556,
              "#d8576b"
             ],
             [
              0.6666666666666666,
              "#ed7953"
             ],
             [
              0.7777777777777778,
              "#fb9f3a"
             ],
             [
              0.8888888888888888,
              "#fdca26"
             ],
             [
              1,
              "#f0f921"
             ]
            ],
            "type": "heatmapgl"
           }
          ],
          "histogram": [
           {
            "marker": {
             "pattern": {
              "fillmode": "overlay",
              "size": 10,
              "solidity": 0.2
             }
            },
            "type": "histogram"
           }
          ],
          "histogram2d": [
           {
            "colorbar": {
             "outlinewidth": 0,
             "ticks": ""
            },
            "colorscale": [
             [
              0,
              "#0d0887"
             ],
             [
              0.1111111111111111,
              "#46039f"
             ],
             [
              0.2222222222222222,
              "#7201a8"
             ],
             [
              0.3333333333333333,
              "#9c179e"
             ],
             [
              0.4444444444444444,
              "#bd3786"
             ],
             [
              0.5555555555555556,
              "#d8576b"
             ],
             [
              0.6666666666666666,
              "#ed7953"
             ],
             [
              0.7777777777777778,
              "#fb9f3a"
             ],
             [
              0.8888888888888888,
              "#fdca26"
             ],
             [
              1,
              "#f0f921"
             ]
            ],
            "type": "histogram2d"
           }
          ],
          "histogram2dcontour": [
           {
            "colorbar": {
             "outlinewidth": 0,
             "ticks": ""
            },
            "colorscale": [
             [
              0,
              "#0d0887"
             ],
             [
              0.1111111111111111,
              "#46039f"
             ],
             [
              0.2222222222222222,
              "#7201a8"
             ],
             [
              0.3333333333333333,
              "#9c179e"
             ],
             [
              0.4444444444444444,
              "#bd3786"
             ],
             [
              0.5555555555555556,
              "#d8576b"
             ],
             [
              0.6666666666666666,
              "#ed7953"
             ],
             [
              0.7777777777777778,
              "#fb9f3a"
             ],
             [
              0.8888888888888888,
              "#fdca26"
             ],
             [
              1,
              "#f0f921"
             ]
            ],
            "type": "histogram2dcontour"
           }
          ],
          "mesh3d": [
           {
            "colorbar": {
             "outlinewidth": 0,
             "ticks": ""
            },
            "type": "mesh3d"
           }
          ],
          "parcoords": [
           {
            "line": {
             "colorbar": {
              "outlinewidth": 0,
              "ticks": ""
             }
            },
            "type": "parcoords"
           }
          ],
          "pie": [
           {
            "automargin": true,
            "type": "pie"
           }
          ],
          "scatter": [
           {
            "fillpattern": {
             "fillmode": "overlay",
             "size": 10,
             "solidity": 0.2
            },
            "type": "scatter"
           }
          ],
          "scatter3d": [
           {
            "line": {
             "colorbar": {
              "outlinewidth": 0,
              "ticks": ""
             }
            },
            "marker": {
             "colorbar": {
              "outlinewidth": 0,
              "ticks": ""
             }
            },
            "type": "scatter3d"
           }
          ],
          "scattercarpet": [
           {
            "marker": {
             "colorbar": {
              "outlinewidth": 0,
              "ticks": ""
             }
            },
            "type": "scattercarpet"
           }
          ],
          "scattergeo": [
           {
            "marker": {
             "colorbar": {
              "outlinewidth": 0,
              "ticks": ""
             }
            },
            "type": "scattergeo"
           }
          ],
          "scattergl": [
           {
            "marker": {
             "colorbar": {
              "outlinewidth": 0,
              "ticks": ""
             }
            },
            "type": "scattergl"
           }
          ],
          "scattermapbox": [
           {
            "marker": {
             "colorbar": {
              "outlinewidth": 0,
              "ticks": ""
             }
            },
            "type": "scattermapbox"
           }
          ],
          "scatterpolar": [
           {
            "marker": {
             "colorbar": {
              "outlinewidth": 0,
              "ticks": ""
             }
            },
            "type": "scatterpolar"
           }
          ],
          "scatterpolargl": [
           {
            "marker": {
             "colorbar": {
              "outlinewidth": 0,
              "ticks": ""
             }
            },
            "type": "scatterpolargl"
           }
          ],
          "scatterternary": [
           {
            "marker": {
             "colorbar": {
              "outlinewidth": 0,
              "ticks": ""
             }
            },
            "type": "scatterternary"
           }
          ],
          "surface": [
           {
            "colorbar": {
             "outlinewidth": 0,
             "ticks": ""
            },
            "colorscale": [
             [
              0,
              "#0d0887"
             ],
             [
              0.1111111111111111,
              "#46039f"
             ],
             [
              0.2222222222222222,
              "#7201a8"
             ],
             [
              0.3333333333333333,
              "#9c179e"
             ],
             [
              0.4444444444444444,
              "#bd3786"
             ],
             [
              0.5555555555555556,
              "#d8576b"
             ],
             [
              0.6666666666666666,
              "#ed7953"
             ],
             [
              0.7777777777777778,
              "#fb9f3a"
             ],
             [
              0.8888888888888888,
              "#fdca26"
             ],
             [
              1,
              "#f0f921"
             ]
            ],
            "type": "surface"
           }
          ],
          "table": [
           {
            "cells": {
             "fill": {
              "color": "#EBF0F8"
             },
             "line": {
              "color": "white"
             }
            },
            "header": {
             "fill": {
              "color": "#C8D4E3"
             },
             "line": {
              "color": "white"
             }
            },
            "type": "table"
           }
          ]
         },
         "layout": {
          "annotationdefaults": {
           "arrowcolor": "#2a3f5f",
           "arrowhead": 0,
           "arrowwidth": 1
          },
          "autotypenumbers": "strict",
          "coloraxis": {
           "colorbar": {
            "outlinewidth": 0,
            "ticks": ""
           }
          },
          "colorscale": {
           "diverging": [
            [
             0,
             "#8e0152"
            ],
            [
             0.1,
             "#c51b7d"
            ],
            [
             0.2,
             "#de77ae"
            ],
            [
             0.3,
             "#f1b6da"
            ],
            [
             0.4,
             "#fde0ef"
            ],
            [
             0.5,
             "#f7f7f7"
            ],
            [
             0.6,
             "#e6f5d0"
            ],
            [
             0.7,
             "#b8e186"
            ],
            [
             0.8,
             "#7fbc41"
            ],
            [
             0.9,
             "#4d9221"
            ],
            [
             1,
             "#276419"
            ]
           ],
           "sequential": [
            [
             0,
             "#0d0887"
            ],
            [
             0.1111111111111111,
             "#46039f"
            ],
            [
             0.2222222222222222,
             "#7201a8"
            ],
            [
             0.3333333333333333,
             "#9c179e"
            ],
            [
             0.4444444444444444,
             "#bd3786"
            ],
            [
             0.5555555555555556,
             "#d8576b"
            ],
            [
             0.6666666666666666,
             "#ed7953"
            ],
            [
             0.7777777777777778,
             "#fb9f3a"
            ],
            [
             0.8888888888888888,
             "#fdca26"
            ],
            [
             1,
             "#f0f921"
            ]
           ],
           "sequentialminus": [
            [
             0,
             "#0d0887"
            ],
            [
             0.1111111111111111,
             "#46039f"
            ],
            [
             0.2222222222222222,
             "#7201a8"
            ],
            [
             0.3333333333333333,
             "#9c179e"
            ],
            [
             0.4444444444444444,
             "#bd3786"
            ],
            [
             0.5555555555555556,
             "#d8576b"
            ],
            [
             0.6666666666666666,
             "#ed7953"
            ],
            [
             0.7777777777777778,
             "#fb9f3a"
            ],
            [
             0.8888888888888888,
             "#fdca26"
            ],
            [
             1,
             "#f0f921"
            ]
           ]
          },
          "colorway": [
           "#636efa",
           "#EF553B",
           "#00cc96",
           "#ab63fa",
           "#FFA15A",
           "#19d3f3",
           "#FF6692",
           "#B6E880",
           "#FF97FF",
           "#FECB52"
          ],
          "font": {
           "color": "#2a3f5f"
          },
          "geo": {
           "bgcolor": "white",
           "lakecolor": "white",
           "landcolor": "#E5ECF6",
           "showlakes": true,
           "showland": true,
           "subunitcolor": "white"
          },
          "hoverlabel": {
           "align": "left"
          },
          "hovermode": "closest",
          "mapbox": {
           "style": "light"
          },
          "paper_bgcolor": "white",
          "plot_bgcolor": "#E5ECF6",
          "polar": {
           "angularaxis": {
            "gridcolor": "white",
            "linecolor": "white",
            "ticks": ""
           },
           "bgcolor": "#E5ECF6",
           "radialaxis": {
            "gridcolor": "white",
            "linecolor": "white",
            "ticks": ""
           }
          },
          "scene": {
           "xaxis": {
            "backgroundcolor": "#E5ECF6",
            "gridcolor": "white",
            "gridwidth": 2,
            "linecolor": "white",
            "showbackground": true,
            "ticks": "",
            "zerolinecolor": "white"
           },
           "yaxis": {
            "backgroundcolor": "#E5ECF6",
            "gridcolor": "white",
            "gridwidth": 2,
            "linecolor": "white",
            "showbackground": true,
            "ticks": "",
            "zerolinecolor": "white"
           },
           "zaxis": {
            "backgroundcolor": "#E5ECF6",
            "gridcolor": "white",
            "gridwidth": 2,
            "linecolor": "white",
            "showbackground": true,
            "ticks": "",
            "zerolinecolor": "white"
           }
          },
          "shapedefaults": {
           "line": {
            "color": "#2a3f5f"
           }
          },
          "ternary": {
           "aaxis": {
            "gridcolor": "white",
            "linecolor": "white",
            "ticks": ""
           },
           "baxis": {
            "gridcolor": "white",
            "linecolor": "white",
            "ticks": ""
           },
           "bgcolor": "#E5ECF6",
           "caxis": {
            "gridcolor": "white",
            "linecolor": "white",
            "ticks": ""
           }
          },
          "title": {
           "x": 0.05
          },
          "xaxis": {
           "automargin": true,
           "gridcolor": "white",
           "linecolor": "white",
           "ticks": "",
           "title": {
            "standoff": 15
           },
           "zerolinecolor": "white",
           "zerolinewidth": 2
          },
          "yaxis": {
           "automargin": true,
           "gridcolor": "white",
           "linecolor": "white",
           "ticks": "",
           "title": {
            "standoff": 15
           },
           "zerolinecolor": "white",
           "zerolinewidth": 2
          }
         }
        }
       }
      }
     },
     "metadata": {},
     "output_type": "display_data"
    }
   ],
   "source": [
    "fig = px.scatter_3d(df, x='feature1', y='feature2', z='target')\n",
    "\n",
    "fig.show()"
   ]
  },
  {
   "cell_type": "code",
   "execution_count": 7,
   "metadata": {},
   "outputs": [],
   "source": [
    "from sklearn.model_selection import train_test_split\n",
    "X_train,X_test,y_train,y_test = train_test_split(X,y,test_size=0.2,random_state=3)"
   ]
  },
  {
   "cell_type": "code",
   "execution_count": 8,
   "metadata": {},
   "outputs": [],
   "source": [
    "from sklearn.linear_model import LinearRegression"
   ]
  },
  {
   "cell_type": "code",
   "execution_count": 9,
   "metadata": {},
   "outputs": [],
   "source": [
    "lr = LinearRegression()"
   ]
  },
  {
   "cell_type": "code",
   "execution_count": 10,
   "metadata": {},
   "outputs": [
    {
     "data": {
      "text/html": [
       "<style>#sk-container-id-1 {color: black;}#sk-container-id-1 pre{padding: 0;}#sk-container-id-1 div.sk-toggleable {background-color: white;}#sk-container-id-1 label.sk-toggleable__label {cursor: pointer;display: block;width: 100%;margin-bottom: 0;padding: 0.3em;box-sizing: border-box;text-align: center;}#sk-container-id-1 label.sk-toggleable__label-arrow:before {content: \"▸\";float: left;margin-right: 0.25em;color: #696969;}#sk-container-id-1 label.sk-toggleable__label-arrow:hover:before {color: black;}#sk-container-id-1 div.sk-estimator:hover label.sk-toggleable__label-arrow:before {color: black;}#sk-container-id-1 div.sk-toggleable__content {max-height: 0;max-width: 0;overflow: hidden;text-align: left;background-color: #f0f8ff;}#sk-container-id-1 div.sk-toggleable__content pre {margin: 0.2em;color: black;border-radius: 0.25em;background-color: #f0f8ff;}#sk-container-id-1 input.sk-toggleable__control:checked~div.sk-toggleable__content {max-height: 200px;max-width: 100%;overflow: auto;}#sk-container-id-1 input.sk-toggleable__control:checked~label.sk-toggleable__label-arrow:before {content: \"▾\";}#sk-container-id-1 div.sk-estimator input.sk-toggleable__control:checked~label.sk-toggleable__label {background-color: #d4ebff;}#sk-container-id-1 div.sk-label input.sk-toggleable__control:checked~label.sk-toggleable__label {background-color: #d4ebff;}#sk-container-id-1 input.sk-hidden--visually {border: 0;clip: rect(1px 1px 1px 1px);clip: rect(1px, 1px, 1px, 1px);height: 1px;margin: -1px;overflow: hidden;padding: 0;position: absolute;width: 1px;}#sk-container-id-1 div.sk-estimator {font-family: monospace;background-color: #f0f8ff;border: 1px dotted black;border-radius: 0.25em;box-sizing: border-box;margin-bottom: 0.5em;}#sk-container-id-1 div.sk-estimator:hover {background-color: #d4ebff;}#sk-container-id-1 div.sk-parallel-item::after {content: \"\";width: 100%;border-bottom: 1px solid gray;flex-grow: 1;}#sk-container-id-1 div.sk-label:hover label.sk-toggleable__label {background-color: #d4ebff;}#sk-container-id-1 div.sk-serial::before {content: \"\";position: absolute;border-left: 1px solid gray;box-sizing: border-box;top: 0;bottom: 0;left: 50%;z-index: 0;}#sk-container-id-1 div.sk-serial {display: flex;flex-direction: column;align-items: center;background-color: white;padding-right: 0.2em;padding-left: 0.2em;position: relative;}#sk-container-id-1 div.sk-item {position: relative;z-index: 1;}#sk-container-id-1 div.sk-parallel {display: flex;align-items: stretch;justify-content: center;background-color: white;position: relative;}#sk-container-id-1 div.sk-item::before, #sk-container-id-1 div.sk-parallel-item::before {content: \"\";position: absolute;border-left: 1px solid gray;box-sizing: border-box;top: 0;bottom: 0;left: 50%;z-index: -1;}#sk-container-id-1 div.sk-parallel-item {display: flex;flex-direction: column;z-index: 1;position: relative;background-color: white;}#sk-container-id-1 div.sk-parallel-item:first-child::after {align-self: flex-end;width: 50%;}#sk-container-id-1 div.sk-parallel-item:last-child::after {align-self: flex-start;width: 50%;}#sk-container-id-1 div.sk-parallel-item:only-child::after {width: 0;}#sk-container-id-1 div.sk-dashed-wrapped {border: 1px dashed gray;margin: 0 0.4em 0.5em 0.4em;box-sizing: border-box;padding-bottom: 0.4em;background-color: white;}#sk-container-id-1 div.sk-label label {font-family: monospace;font-weight: bold;display: inline-block;line-height: 1.2em;}#sk-container-id-1 div.sk-label-container {text-align: center;}#sk-container-id-1 div.sk-container {/* jupyter's `normalize.less` sets `[hidden] { display: none; }` but bootstrap.min.css set `[hidden] { display: none !important; }` so we also need the `!important` here to be able to override the default hidden behavior on the sphinx rendered scikit-learn.org. See: https://github.com/scikit-learn/scikit-learn/issues/21755 */display: inline-block !important;position: relative;}#sk-container-id-1 div.sk-text-repr-fallback {display: none;}</style><div id=\"sk-container-id-1\" class=\"sk-top-container\"><div class=\"sk-text-repr-fallback\"><pre>LinearRegression()</pre><b>In a Jupyter environment, please rerun this cell to show the HTML representation or trust the notebook. <br />On GitHub, the HTML representation is unable to render, please try loading this page with nbviewer.org.</b></div><div class=\"sk-container\" hidden><div class=\"sk-item\"><div class=\"sk-estimator sk-toggleable\"><input class=\"sk-toggleable__control sk-hidden--visually\" id=\"sk-estimator-id-1\" type=\"checkbox\" checked><label for=\"sk-estimator-id-1\" class=\"sk-toggleable__label sk-toggleable__label-arrow\">LinearRegression</label><div class=\"sk-toggleable__content\"><pre>LinearRegression()</pre></div></div></div></div></div>"
      ],
      "text/plain": [
       "LinearRegression()"
      ]
     },
     "execution_count": 10,
     "metadata": {},
     "output_type": "execute_result"
    }
   ],
   "source": [
    "lr.fit(X_train,y_train)"
   ]
  },
  {
   "cell_type": "code",
   "execution_count": 11,
   "metadata": {},
   "outputs": [],
   "source": [
    "y_pred = lr.predict(X_test)"
   ]
  },
  {
   "cell_type": "code",
   "execution_count": 12,
   "metadata": {},
   "outputs": [
    {
     "name": "stdout",
     "output_type": "stream",
     "text": [
      "MAE 35.18853609113521\n",
      "MSE 2023.8707921990506\n",
      "R2 score 0.7646320033013809\n"
     ]
    }
   ],
   "source": [
    "print(\"MAE\",mean_absolute_error(y_test,y_pred))\n",
    "print(\"MSE\",mean_squared_error(y_test,y_pred))\n",
    "print(\"R2 score\",r2_score(y_test,y_pred))"
   ]
  },
  {
   "cell_type": "code",
   "execution_count": 14,
   "metadata": {},
   "outputs": [],
   "source": [
    "x = np.linspace(-5, 5, 10)\n",
    "y = np.linspace(-5, 5, 10)\n",
    "xGrid, yGrid = np.meshgrid(y, x)\n",
    "\n",
    "final = np.vstack((xGrid.ravel().reshape(1,100),yGrid.ravel().reshape(1,100))).T\n",
    "\n",
    "z_final = lr.predict(final).reshape(10,10)\n",
    "\n",
    "z = z_final\n",
    "\n"
   ]
  },
  {
   "cell_type": "code",
   "execution_count": 15,
   "metadata": {},
   "outputs": [
    {
     "data": {
      "application/vnd.plotly.v1+json": {
       "config": {
        "plotlyServerURL": "https://plot.ly"
       },
       "data": [
        {
         "hovertemplate": "feature1=%{x}<br>feature2=%{y}<br>target=%{z}<extra></extra>",
         "legendgroup": "",
         "marker": {
          "color": "#636efa",
          "symbol": "circle"
         },
         "mode": "markers",
         "name": "",
         "scene": "scene",
         "showlegend": false,
         "type": "scatter3d",
         "x": [
          -0.2194525108253655,
          1.4598030771360684,
          -0.5264335221621064,
          -2.7878434595382835,
          0.5999528399186149,
          0.38224584808278833,
          0.6955916065791051,
          0.16005745418843623,
          2.245956802315152,
          -1.9884410578759681,
          1.1334479781140794,
          -0.7517885139560544,
          -0.24458116974838953,
          0.09522401786227537,
          -0.682330777655981,
          0.0714289520675154,
          0.16796340857714134,
          -0.22625659429066472,
          0.4990063522451327,
          -0.8726173826662146,
          0.7385367386647714,
          -1.5995597869085543,
          1.633188474319969,
          1.021079989114177,
          -0.4758362314415133,
          1.187762351510945,
          1.6961637767448623,
          -0.46311855077343933,
          0.14740931104528274,
          -0.17080865018204572,
          -0.2398100816284543,
          -0.6602226961195281,
          0.24386443223597104,
          0.27222764305387,
          -1.2981942511043205,
          2.089152083012286,
          2.5662775457799034,
          0.35721192616082287,
          0.1096925902807711,
          1.5084418098559411,
          -0.15456498040282995,
          -1.6290539313601866,
          -0.6962764571912998,
          1.5814622780268597,
          -0.6800947744483188,
          0.7495602235195333,
          -0.10826811470447528,
          0.3923123867696605,
          0.4854778151747179,
          0.9051848950047644,
          -0.38641313957398365,
          0.23354368073743872,
          -0.6277738686516129,
          0.6339016813697914,
          0.7855896471367083,
          0.017470973599318693,
          0.6845490682914305,
          -0.48039244672827236,
          -0.5890458130272571,
          1.0179829876071127,
          1.0458272255437089,
          -1.1977265589736987,
          -1.601113717383579,
          -1.3416007186877197,
          -1.8456488303972913,
          1.8907529971975365,
          -1.949503751064469,
          0.6106240330562046,
          1.2036475638907334,
          -1.511625049185974,
          0.8438525727428325,
          1.469472647982059,
          0.2947767939216705,
          -0.245188787568309,
          -0.30887493345915185,
          -0.42693905644786123,
          -0.9348006289989841,
          0.06952079131317793,
          -0.32532900196675474,
          0.8653969002366891,
          -0.6208925322194317,
          -0.4768398637106354,
          -0.670500960579108,
          1.0670645013010656,
          -1.0133378369813832,
          -0.2967881802532062,
          -1.9374836671416538,
          -0.29441620974945115,
          -0.3113338275744991,
          0.12350350393025272,
          0.44200957294855725,
          0.13528327369529633,
          0.5728718889677848,
          1.1717302695377894,
          1.5660661008222458,
          -0.22847990258660678,
          -0.45176922277844,
          0.18204021304256718,
          0.08875793812790696,
          0.7315919456616538
         ],
         "y": [
          0.9808861203648591,
          0.05998054996586914,
          0.7073532280250123,
          1.7091363587817736,
          0.866601541451097,
          -1.3621420172776364,
          0.15933349961189447,
          -0.17429402745554737,
          -0.27948282897781784,
          0.4722217425612931,
          -1.7299309629370356,
          -2.4421694024125014,
          -0.4963022602505653,
          -0.5575113818609055,
          -1.0634027025251975,
          0.5385246602824363,
          0.793013564097056,
          0.27754401056547057,
          0.2931458788088806,
          0.4098324362747184,
          -0.5074293768535854,
          1.5454195038052287,
          1.410023002945163,
          0.35047417683573695,
          -1.1605118804247492,
          -0.17845644205211786,
          -0.845613967321558,
          1.0127647627464837,
          -0.3502133430785677,
          0.2259000304519556,
          0.5570386666585484,
          0.22301781570841317,
          0.7544941032030427,
          2.462184861966843,
          0.9220015089606269,
          1.1247462023691492,
          1.168464527859563,
          1.5573313715754888,
          -0.057766144681555796,
          1.7615393582533414,
          -1.0154674166544657,
          -1.9376325162727068,
          0.44288879750702803,
          -0.6238666967624055,
          -1.1477182013202403,
          -0.4326393590854077,
          0.1664700215565202,
          0.34594524885488415,
          -1.461974181338331,
          -0.6593605410664857,
          2.155482107215342,
          -1.5684631471280424,
          0.023347739532423896,
          1.7914160073769256,
          0.6539413312436643,
          -2.5023625482989083,
          -0.8527547144387444,
          1.5304866284366663,
          -0.9465818686790037,
          -0.21470377633424403,
          1.1123667362764336,
          -0.20101223487873232,
          0.15719370916754688,
          1.0986930841724811,
          1.1490899071714629,
          -0.1088571682545712,
          1.0281948156882066,
          -0.7340191620823202,
          0.043166789176677475,
          -0.23363456704060867,
          0.7200724317499924,
          -0.8971965379232979,
          1.5527630793356275,
          -0.14294704680979414,
          0.07313865104786833,
          -2.0337857409846403,
          0.5553429310596895,
          -0.2832562235046289,
          -1.0299093943802944,
          1.0612385596025524,
          0.33229571679633374,
          1.5473715922146851,
          1.7068592916204315,
          -0.5536545634738558,
          0.3867106967302125,
          0.39337007208061775,
          -0.6378085378038925,
          1.2962839408130635,
          -0.14551905329265533,
          0.6852675677690121,
          0.01795593728847569,
          -0.14851621413211027,
          -1.4724394490326267,
          0.07096417465495426,
          0.730336284297236,
          1.143354998428486,
          0.40633145194626114,
          -0.7937978266649238,
          0.08319237676681661,
          -0.49256487936024784
         ],
         "z": [
          44.788355429199214,
          152.54924016882808,
          66.11306010440089,
          -256.7911485591625,
          36.75619669522009,
          -69.57856438338337,
          -0.24608667837620146,
          -40.68019788081392,
          160.88964145291112,
          -122.94778494082091,
          9.79085639469173,
          -108.46491570078841,
          14.776435443183793,
          54.56890488872075,
          -111.95270371367353,
          45.903925528551966,
          163.13008493576663,
          -0.48060990481934596,
          -36.486642859522355,
          -123.21869894137511,
          30.295136222653507,
          -58.78195433796476,
          126.51898640654662,
          53.5841522466555,
          -148.92969706676362,
          145.95679943297105,
          50.88236337407233,
          -14.45236913901826,
          -32.17511539400083,
          -0.7729549794708888,
          -6.309678845495934,
          32.07985646085299,
          52.52637125128368,
          78.93479065344776,
          -86.99611398393951,
          238.7405523026176,
          289.45845092889067,
          67.62786107306574,
          -45.532999378136324,
          178.01417581715748,
          -53.02127072686004,
          -188.7105203616682,
          -87.66784084234253,
          161.34967435023896,
          -165.6316330960095,
          92.97505769337658,
          -17.925328538425603,
          13.935059767022487,
          -53.17165136443526,
          57.55686132883456,
          -58.67057917700033,
          -38.45844318105196,
          -42.78062053324497,
          136.36200379188497,
          105.26170423038968,
          -107.86730020285762,
          14.325041165107635,
          37.996910772927784,
          -132.85857223057957,
          83.67299852081685,
          135.88689726925398,
          -116.02556818248063,
          -97.34686890702932,
          -84.58829384507948,
          -179.91775768258373,
          94.33705358602523,
          -104.32778993168891,
          8.75922803949748,
          44.27309164560462,
          -203.80224524876354,
          32.32175578118829,
          120.75652976202714,
          -2.360464429751545,
          -76.56143521850183,
          -72.09612095701483,
          -144.2868390477265,
          -48.72207046962918,
          -25.46910816230127,
          -82.24778788775711,
          124.40213183675158,
          -73.04706321536112,
          -101.68263764729096,
          -97.75401438547217,
          56.44405344680301,
          -27.206923784702298,
          38.8892382234807,
          -185.00033035389137,
          -5.745768611567228,
          -67.7326116808831,
          -5.362821317895563,
          35.72930855505401,
          -130.0503041966047,
          -3.502825800701327,
          108.41512401946805,
          142.47857699639715,
          60.343382821048905,
          69.55873610207838,
          -42.939154240412165,
          1.746236503214103,
          78.16049933365765
         ]
        },
        {
         "type": "surface",
         "x": [
          -5,
          -3.888888888888889,
          -2.7777777777777777,
          -1.6666666666666665,
          -0.5555555555555554,
          0.5555555555555554,
          1.666666666666667,
          2.7777777777777786,
          3.8888888888888893,
          5
         ],
         "y": [
          -5,
          -3.888888888888889,
          -2.7777777777777777,
          -1.6666666666666665,
          -0.5555555555555554,
          0.5555555555555554,
          1.666666666666667,
          2.7777777777777786,
          3.8888888888888893,
          5
         ],
         "z": [
          [
           -602.5703555121945,
           -509.9275296629721,
           -417.2847038137498,
           -324.64187796452745,
           -231.99905211530512,
           -139.3562262660828,
           -46.71340041686044,
           45.92942543236195,
           138.57225128158422,
           231.21507713080655
          ],
          [
           -564.151321491133,
           -471.50849564191054,
           -378.8656697926882,
           -286.2228439434659,
           -193.58001809424354,
           -100.93719224502124,
           -8.294366395798848,
           84.34845945342354,
           176.99128530264582,
           269.6341111518682
          ],
          [
           -525.7322874700714,
           -433.08946162084897,
           -340.4466357716266,
           -247.8038099224043,
           -155.16098407318194,
           -62.51815822395963,
           30.124667625262745,
           122.76749347448512,
           215.4103193237074,
           308.05314517292976
          ],
          [
           -487.3132534490097,
           -394.6704275997874,
           -302.027601750565,
           -209.3847759013427,
           -116.74195005212036,
           -24.099124202898043,
           68.54370164632434,
           161.18652749554673,
           253.82935334476898,
           346.47217919399134
          ],
          [
           -448.8942194279481,
           -356.25139357872575,
           -263.6085677295034,
           -170.96574188028112,
           -78.32291603105875,
           14.319909818163545,
           106.96273566738591,
           199.6055615166083,
           292.24838736583064,
           384.89121321505297
          ],
          [
           -410.47518540688657,
           -317.83235955766423,
           -225.18953370844187,
           -132.54670785921954,
           -39.90388200999718,
           52.73894383922512,
           145.3817696884475,
           238.02459553766988,
           330.66742138689216,
           423.3102472361145
          ],
          [
           -372.05615138582493,
           -279.4133255366026,
           -186.77049968738027,
           -94.12767383815793,
           -1.484847988935579,
           91.15797786028673,
           183.8008037095091,
           276.4436295587315,
           369.0864554079538,
           461.7292812571761
          ],
          [
           -333.63711736476336,
           -240.99429151554102,
           -148.35146566631866,
           -55.70863981709632,
           36.93418603212603,
           129.5770118813483,
           222.2198377305707,
           314.8626635797931,
           407.50548942901537,
           500.1483152782377
          ],
          [
           -295.2180833437018,
           -202.57525749447944,
           -109.93243164525708,
           -17.289605796034746,
           75.35322005318761,
           167.9960459024099,
           260.6388717516323,
           353.28169760085467,
           445.92452345007695,
           538.5673492992993
          ],
          [
           -256.7990493226402,
           -164.15622347341787,
           -71.5133976241955,
           21.129428225026828,
           113.77225407424916,
           206.41507992347147,
           299.05790577269386,
           391.70073162191625,
           484.3435574711385,
           576.9863833203608
          ]
         ]
        }
       ],
       "layout": {
        "legend": {
         "tracegroupgap": 0
        },
        "margin": {
         "t": 60
        },
        "scene": {
         "domain": {
          "x": [
           0,
           1
          ],
          "y": [
           0,
           1
          ]
         },
         "xaxis": {
          "title": {
           "text": "feature1"
          }
         },
         "yaxis": {
          "title": {
           "text": "feature2"
          }
         },
         "zaxis": {
          "title": {
           "text": "target"
          }
         }
        },
        "template": {
         "data": {
          "bar": [
           {
            "error_x": {
             "color": "#2a3f5f"
            },
            "error_y": {
             "color": "#2a3f5f"
            },
            "marker": {
             "line": {
              "color": "#E5ECF6",
              "width": 0.5
             },
             "pattern": {
              "fillmode": "overlay",
              "size": 10,
              "solidity": 0.2
             }
            },
            "type": "bar"
           }
          ],
          "barpolar": [
           {
            "marker": {
             "line": {
              "color": "#E5ECF6",
              "width": 0.5
             },
             "pattern": {
              "fillmode": "overlay",
              "size": 10,
              "solidity": 0.2
             }
            },
            "type": "barpolar"
           }
          ],
          "carpet": [
           {
            "aaxis": {
             "endlinecolor": "#2a3f5f",
             "gridcolor": "white",
             "linecolor": "white",
             "minorgridcolor": "white",
             "startlinecolor": "#2a3f5f"
            },
            "baxis": {
             "endlinecolor": "#2a3f5f",
             "gridcolor": "white",
             "linecolor": "white",
             "minorgridcolor": "white",
             "startlinecolor": "#2a3f5f"
            },
            "type": "carpet"
           }
          ],
          "choropleth": [
           {
            "colorbar": {
             "outlinewidth": 0,
             "ticks": ""
            },
            "type": "choropleth"
           }
          ],
          "contour": [
           {
            "colorbar": {
             "outlinewidth": 0,
             "ticks": ""
            },
            "colorscale": [
             [
              0,
              "#0d0887"
             ],
             [
              0.1111111111111111,
              "#46039f"
             ],
             [
              0.2222222222222222,
              "#7201a8"
             ],
             [
              0.3333333333333333,
              "#9c179e"
             ],
             [
              0.4444444444444444,
              "#bd3786"
             ],
             [
              0.5555555555555556,
              "#d8576b"
             ],
             [
              0.6666666666666666,
              "#ed7953"
             ],
             [
              0.7777777777777778,
              "#fb9f3a"
             ],
             [
              0.8888888888888888,
              "#fdca26"
             ],
             [
              1,
              "#f0f921"
             ]
            ],
            "type": "contour"
           }
          ],
          "contourcarpet": [
           {
            "colorbar": {
             "outlinewidth": 0,
             "ticks": ""
            },
            "type": "contourcarpet"
           }
          ],
          "heatmap": [
           {
            "colorbar": {
             "outlinewidth": 0,
             "ticks": ""
            },
            "colorscale": [
             [
              0,
              "#0d0887"
             ],
             [
              0.1111111111111111,
              "#46039f"
             ],
             [
              0.2222222222222222,
              "#7201a8"
             ],
             [
              0.3333333333333333,
              "#9c179e"
             ],
             [
              0.4444444444444444,
              "#bd3786"
             ],
             [
              0.5555555555555556,
              "#d8576b"
             ],
             [
              0.6666666666666666,
              "#ed7953"
             ],
             [
              0.7777777777777778,
              "#fb9f3a"
             ],
             [
              0.8888888888888888,
              "#fdca26"
             ],
             [
              1,
              "#f0f921"
             ]
            ],
            "type": "heatmap"
           }
          ],
          "heatmapgl": [
           {
            "colorbar": {
             "outlinewidth": 0,
             "ticks": ""
            },
            "colorscale": [
             [
              0,
              "#0d0887"
             ],
             [
              0.1111111111111111,
              "#46039f"
             ],
             [
              0.2222222222222222,
              "#7201a8"
             ],
             [
              0.3333333333333333,
              "#9c179e"
             ],
             [
              0.4444444444444444,
              "#bd3786"
             ],
             [
              0.5555555555555556,
              "#d8576b"
             ],
             [
              0.6666666666666666,
              "#ed7953"
             ],
             [
              0.7777777777777778,
              "#fb9f3a"
             ],
             [
              0.8888888888888888,
              "#fdca26"
             ],
             [
              1,
              "#f0f921"
             ]
            ],
            "type": "heatmapgl"
           }
          ],
          "histogram": [
           {
            "marker": {
             "pattern": {
              "fillmode": "overlay",
              "size": 10,
              "solidity": 0.2
             }
            },
            "type": "histogram"
           }
          ],
          "histogram2d": [
           {
            "colorbar": {
             "outlinewidth": 0,
             "ticks": ""
            },
            "colorscale": [
             [
              0,
              "#0d0887"
             ],
             [
              0.1111111111111111,
              "#46039f"
             ],
             [
              0.2222222222222222,
              "#7201a8"
             ],
             [
              0.3333333333333333,
              "#9c179e"
             ],
             [
              0.4444444444444444,
              "#bd3786"
             ],
             [
              0.5555555555555556,
              "#d8576b"
             ],
             [
              0.6666666666666666,
              "#ed7953"
             ],
             [
              0.7777777777777778,
              "#fb9f3a"
             ],
             [
              0.8888888888888888,
              "#fdca26"
             ],
             [
              1,
              "#f0f921"
             ]
            ],
            "type": "histogram2d"
           }
          ],
          "histogram2dcontour": [
           {
            "colorbar": {
             "outlinewidth": 0,
             "ticks": ""
            },
            "colorscale": [
             [
              0,
              "#0d0887"
             ],
             [
              0.1111111111111111,
              "#46039f"
             ],
             [
              0.2222222222222222,
              "#7201a8"
             ],
             [
              0.3333333333333333,
              "#9c179e"
             ],
             [
              0.4444444444444444,
              "#bd3786"
             ],
             [
              0.5555555555555556,
              "#d8576b"
             ],
             [
              0.6666666666666666,
              "#ed7953"
             ],
             [
              0.7777777777777778,
              "#fb9f3a"
             ],
             [
              0.8888888888888888,
              "#fdca26"
             ],
             [
              1,
              "#f0f921"
             ]
            ],
            "type": "histogram2dcontour"
           }
          ],
          "mesh3d": [
           {
            "colorbar": {
             "outlinewidth": 0,
             "ticks": ""
            },
            "type": "mesh3d"
           }
          ],
          "parcoords": [
           {
            "line": {
             "colorbar": {
              "outlinewidth": 0,
              "ticks": ""
             }
            },
            "type": "parcoords"
           }
          ],
          "pie": [
           {
            "automargin": true,
            "type": "pie"
           }
          ],
          "scatter": [
           {
            "fillpattern": {
             "fillmode": "overlay",
             "size": 10,
             "solidity": 0.2
            },
            "type": "scatter"
           }
          ],
          "scatter3d": [
           {
            "line": {
             "colorbar": {
              "outlinewidth": 0,
              "ticks": ""
             }
            },
            "marker": {
             "colorbar": {
              "outlinewidth": 0,
              "ticks": ""
             }
            },
            "type": "scatter3d"
           }
          ],
          "scattercarpet": [
           {
            "marker": {
             "colorbar": {
              "outlinewidth": 0,
              "ticks": ""
             }
            },
            "type": "scattercarpet"
           }
          ],
          "scattergeo": [
           {
            "marker": {
             "colorbar": {
              "outlinewidth": 0,
              "ticks": ""
             }
            },
            "type": "scattergeo"
           }
          ],
          "scattergl": [
           {
            "marker": {
             "colorbar": {
              "outlinewidth": 0,
              "ticks": ""
             }
            },
            "type": "scattergl"
           }
          ],
          "scattermapbox": [
           {
            "marker": {
             "colorbar": {
              "outlinewidth": 0,
              "ticks": ""
             }
            },
            "type": "scattermapbox"
           }
          ],
          "scatterpolar": [
           {
            "marker": {
             "colorbar": {
              "outlinewidth": 0,
              "ticks": ""
             }
            },
            "type": "scatterpolar"
           }
          ],
          "scatterpolargl": [
           {
            "marker": {
             "colorbar": {
              "outlinewidth": 0,
              "ticks": ""
             }
            },
            "type": "scatterpolargl"
           }
          ],
          "scatterternary": [
           {
            "marker": {
             "colorbar": {
              "outlinewidth": 0,
              "ticks": ""
             }
            },
            "type": "scatterternary"
           }
          ],
          "surface": [
           {
            "colorbar": {
             "outlinewidth": 0,
             "ticks": ""
            },
            "colorscale": [
             [
              0,
              "#0d0887"
             ],
             [
              0.1111111111111111,
              "#46039f"
             ],
             [
              0.2222222222222222,
              "#7201a8"
             ],
             [
              0.3333333333333333,
              "#9c179e"
             ],
             [
              0.4444444444444444,
              "#bd3786"
             ],
             [
              0.5555555555555556,
              "#d8576b"
             ],
             [
              0.6666666666666666,
              "#ed7953"
             ],
             [
              0.7777777777777778,
              "#fb9f3a"
             ],
             [
              0.8888888888888888,
              "#fdca26"
             ],
             [
              1,
              "#f0f921"
             ]
            ],
            "type": "surface"
           }
          ],
          "table": [
           {
            "cells": {
             "fill": {
              "color": "#EBF0F8"
             },
             "line": {
              "color": "white"
             }
            },
            "header": {
             "fill": {
              "color": "#C8D4E3"
             },
             "line": {
              "color": "white"
             }
            },
            "type": "table"
           }
          ]
         },
         "layout": {
          "annotationdefaults": {
           "arrowcolor": "#2a3f5f",
           "arrowhead": 0,
           "arrowwidth": 1
          },
          "autotypenumbers": "strict",
          "coloraxis": {
           "colorbar": {
            "outlinewidth": 0,
            "ticks": ""
           }
          },
          "colorscale": {
           "diverging": [
            [
             0,
             "#8e0152"
            ],
            [
             0.1,
             "#c51b7d"
            ],
            [
             0.2,
             "#de77ae"
            ],
            [
             0.3,
             "#f1b6da"
            ],
            [
             0.4,
             "#fde0ef"
            ],
            [
             0.5,
             "#f7f7f7"
            ],
            [
             0.6,
             "#e6f5d0"
            ],
            [
             0.7,
             "#b8e186"
            ],
            [
             0.8,
             "#7fbc41"
            ],
            [
             0.9,
             "#4d9221"
            ],
            [
             1,
             "#276419"
            ]
           ],
           "sequential": [
            [
             0,
             "#0d0887"
            ],
            [
             0.1111111111111111,
             "#46039f"
            ],
            [
             0.2222222222222222,
             "#7201a8"
            ],
            [
             0.3333333333333333,
             "#9c179e"
            ],
            [
             0.4444444444444444,
             "#bd3786"
            ],
            [
             0.5555555555555556,
             "#d8576b"
            ],
            [
             0.6666666666666666,
             "#ed7953"
            ],
            [
             0.7777777777777778,
             "#fb9f3a"
            ],
            [
             0.8888888888888888,
             "#fdca26"
            ],
            [
             1,
             "#f0f921"
            ]
           ],
           "sequentialminus": [
            [
             0,
             "#0d0887"
            ],
            [
             0.1111111111111111,
             "#46039f"
            ],
            [
             0.2222222222222222,
             "#7201a8"
            ],
            [
             0.3333333333333333,
             "#9c179e"
            ],
            [
             0.4444444444444444,
             "#bd3786"
            ],
            [
             0.5555555555555556,
             "#d8576b"
            ],
            [
             0.6666666666666666,
             "#ed7953"
            ],
            [
             0.7777777777777778,
             "#fb9f3a"
            ],
            [
             0.8888888888888888,
             "#fdca26"
            ],
            [
             1,
             "#f0f921"
            ]
           ]
          },
          "colorway": [
           "#636efa",
           "#EF553B",
           "#00cc96",
           "#ab63fa",
           "#FFA15A",
           "#19d3f3",
           "#FF6692",
           "#B6E880",
           "#FF97FF",
           "#FECB52"
          ],
          "font": {
           "color": "#2a3f5f"
          },
          "geo": {
           "bgcolor": "white",
           "lakecolor": "white",
           "landcolor": "#E5ECF6",
           "showlakes": true,
           "showland": true,
           "subunitcolor": "white"
          },
          "hoverlabel": {
           "align": "left"
          },
          "hovermode": "closest",
          "mapbox": {
           "style": "light"
          },
          "paper_bgcolor": "white",
          "plot_bgcolor": "#E5ECF6",
          "polar": {
           "angularaxis": {
            "gridcolor": "white",
            "linecolor": "white",
            "ticks": ""
           },
           "bgcolor": "#E5ECF6",
           "radialaxis": {
            "gridcolor": "white",
            "linecolor": "white",
            "ticks": ""
           }
          },
          "scene": {
           "xaxis": {
            "backgroundcolor": "#E5ECF6",
            "gridcolor": "white",
            "gridwidth": 2,
            "linecolor": "white",
            "showbackground": true,
            "ticks": "",
            "zerolinecolor": "white"
           },
           "yaxis": {
            "backgroundcolor": "#E5ECF6",
            "gridcolor": "white",
            "gridwidth": 2,
            "linecolor": "white",
            "showbackground": true,
            "ticks": "",
            "zerolinecolor": "white"
           },
           "zaxis": {
            "backgroundcolor": "#E5ECF6",
            "gridcolor": "white",
            "gridwidth": 2,
            "linecolor": "white",
            "showbackground": true,
            "ticks": "",
            "zerolinecolor": "white"
           }
          },
          "shapedefaults": {
           "line": {
            "color": "#2a3f5f"
           }
          },
          "ternary": {
           "aaxis": {
            "gridcolor": "white",
            "linecolor": "white",
            "ticks": ""
           },
           "baxis": {
            "gridcolor": "white",
            "linecolor": "white",
            "ticks": ""
           },
           "bgcolor": "#E5ECF6",
           "caxis": {
            "gridcolor": "white",
            "linecolor": "white",
            "ticks": ""
           }
          },
          "title": {
           "x": 0.05
          },
          "xaxis": {
           "automargin": true,
           "gridcolor": "white",
           "linecolor": "white",
           "ticks": "",
           "title": {
            "standoff": 15
           },
           "zerolinecolor": "white",
           "zerolinewidth": 2
          },
          "yaxis": {
           "automargin": true,
           "gridcolor": "white",
           "linecolor": "white",
           "ticks": "",
           "title": {
            "standoff": 15
           },
           "zerolinecolor": "white",
           "zerolinewidth": 2
          }
         }
        }
       }
      }
     },
     "metadata": {},
     "output_type": "display_data"
    }
   ],
   "source": [
    "fig = px.scatter_3d(df, x='feature1', y='feature2', z='target')\n",
    "\n",
    "fig.add_trace(go.Surface(x = x, y = y, z =z ))\n",
    "\n",
    "fig.show()"
   ]
  },
  {
   "cell_type": "code",
   "execution_count": 16,
   "metadata": {},
   "outputs": [
    {
     "data": {
      "text/plain": [
       "array([83.37854326, 34.57713062])"
      ]
     },
     "execution_count": 16,
     "metadata": {},
     "output_type": "execute_result"
    }
   ],
   "source": [
    "\n",
    "lr.coef_"
   ]
  },
  {
   "cell_type": "code",
   "execution_count": 17,
   "metadata": {},
   "outputs": [
    {
     "data": {
      "text/plain": [
       "-12.791986095916819"
      ]
     },
     "execution_count": 17,
     "metadata": {},
     "output_type": "execute_result"
    }
   ],
   "source": [
    "lr.intercept_"
   ]
  },
  {
   "cell_type": "code",
   "execution_count": null,
   "metadata": {},
   "outputs": [],
   "source": []
  }
 ],
 "metadata": {
  "kernelspec": {
   "display_name": "base",
   "language": "python",
   "name": "python3"
  },
  "language_info": {
   "codemirror_mode": {
    "name": "ipython",
    "version": 3
   },
   "file_extension": ".py",
   "mimetype": "text/x-python",
   "name": "python",
   "nbconvert_exporter": "python",
   "pygments_lexer": "ipython3",
   "version": "3.11.5"
  }
 },
 "nbformat": 4,
 "nbformat_minor": 2
}
