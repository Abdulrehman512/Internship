{
 "cells": [
  {
   "cell_type": "code",
   "execution_count": null,
   "metadata": {},
   "outputs": [],
   "source": []
  },
  {
   "cell_type": "markdown",
   "metadata": {},
   "source": [
    "## Concept of Mask\n",
    "\n",
    "A mask is a digital image that is used to hide or reveal portions of another image. In computer graphics, masks are used to create special effects or to select regions of an image for editing."
   ]
  },
  {
   "cell_type": "markdown",
   "metadata": {},
   "source": [
    "### Masking in Computer Graphics:\n",
    "Masking is a technique used in computer graphics to hide or obscure part of an image. Masking can be used for aesthetic purposes, to remove unwanted parts of an image, or to change the shape of an image. There are two types of masking: bitmasking and alpha masking. Bitmasking is a method of hiding pixels based on their color values. Alpha masking is a method of hiding pixels based on their opacity. Masking is often used in image editing applications such as Adobe Photoshop and GIMP."
   ]
  },
  {
   "cell_type": "markdown",
   "metadata": {},
   "source": []
  },
  {
   "cell_type": "markdown",
   "metadata": {},
   "source": [
    "### Alpha blending \n",
    "is the process of overlaying a foreground image on a background image"
   ]
  },
  {
   "cell_type": "code",
   "execution_count": 12,
   "metadata": {},
   "outputs": [],
   "source": [
    "\n",
    "import cv2 \n",
    "  \n",
    "img1 = cv2.imread('gfg.png') \n",
    "img2 = cv2.imread('apple.jpeg') \n",
    "  \n",
    "img2 = cv2.resize(img2, img1.shape[1::-1]) \n",
    "\n",
    "cv2.imshow('img 1', img1)\n",
    "\n",
    "cv2.waitKey(0)\n",
    "\n",
    "cv2.imshow('img 2', img2)\n",
    "\n",
    "cv2.waitKey(0)\n",
    "\n",
    "choice = 1\n",
    "\n",
    "while (choice):\n",
    "    alpha = float(input(\"Enter alpha value\")) \n",
    "  \n",
    "    dst = cv2.addWeighted(img1, alpha , img2, 1-alpha, 0) \n",
    "  \n",
    "    cv2.imwrite('alpha_mask_.png', dst) \n",
    "  \n",
    "    img3 = cv2.imread('alpha_mask_.png') \n",
    "  \n",
    "    cv2.imshow(\"alpha blending 1\",img3) \n",
    "  \n",
    "    cv2.waitKey(0) \n",
    "  \n",
    "    choice = int(input(\"Enter 1 to continue and 0 to exit\")) "
   ]
  },
  {
   "cell_type": "markdown",
   "metadata": {},
   "source": []
  },
  {
   "cell_type": "markdown",
   "metadata": {},
   "source": [
    "### Alpha masking:\n",
    "\n",
    "We can create a black and white mask from an image with a transparent background."
   ]
  },
  {
   "cell_type": "code",
   "execution_count": 13,
   "metadata": {},
   "outputs": [
    {
     "data": {
      "text/plain": [
       "True"
      ]
     },
     "execution_count": 13,
     "metadata": {},
     "output_type": "execute_result"
    }
   ],
   "source": [
    "import cv2 \n",
    "im = cv2.imread(\"spectacles.png\", cv2.IMREAD_UNCHANGED) \n",
    "_, mask = cv2.threshold(im[:, :, 3], 0, 255, cv2.THRESH_BINARY) \n",
    "cv2.imwrite('mask.jpg', mask) \n"
   ]
  },
  {
   "cell_type": "code",
   "execution_count": null,
   "metadata": {},
   "outputs": [],
   "source": []
  }
 ],
 "metadata": {
  "kernelspec": {
   "display_name": "base",
   "language": "python",
   "name": "python3"
  },
  "language_info": {
   "codemirror_mode": {
    "name": "ipython",
    "version": 3
   },
   "file_extension": ".py",
   "mimetype": "text/x-python",
   "name": "python",
   "nbconvert_exporter": "python",
   "pygments_lexer": "ipython3",
   "version": "3.11.5"
  }
 },
 "nbformat": 4,
 "nbformat_minor": 2
}
