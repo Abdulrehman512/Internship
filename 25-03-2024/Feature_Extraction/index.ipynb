{
 "cells": [
  {
   "cell_type": "code",
   "execution_count": null,
   "metadata": {},
   "outputs": [],
   "source": [
    "import cv2\n",
    "import numpy as np"
   ]
  },
  {
   "cell_type": "markdown",
   "metadata": {},
   "source": [
    "## Color Mean Features"
   ]
  },
  {
   "cell_type": "code",
   "execution_count": null,
   "metadata": {},
   "outputs": [],
   "source": [
    "img1 = cv2.imread(\"img2.jpg\")\n",
    "height, width, depth = np.shape(img1)"
   ]
  },
  {
   "cell_type": "code",
   "execution_count": null,
   "metadata": {},
   "outputs": [],
   "source": [
    "means = cv2.mean(img1)\n",
    "\n",
    "avgB = int(means[0])\n",
    "avgG = int(means[1])\n",
    "avgR = int(means[2])\n",
    "\n",
    "print(str(avgB))\n",
    "print(str(avgG))\n",
    "print(str(avgR))\n",
    "\n",
    "cv2.imshow(\"Image\",img1)\n",
    "cv2.waitKey(0)\n",
    "cv2.destroyAllWindows()"
   ]
  },
  {
   "cell_type": "code",
   "execution_count": null,
   "metadata": {},
   "outputs": [],
   "source": [
    "# from utils import *\n",
    "\n",
    "# img = cv2.imread(\"img2.jpeg\")\n",
    "# feature_vector = describeImage(img,1)\n",
    "# print(feature_vector)"
   ]
  },
  {
   "cell_type": "code",
   "execution_count": null,
   "metadata": {},
   "outputs": [],
   "source": []
  },
  {
   "cell_type": "markdown",
   "metadata": {},
   "source": [
    "## Histogram Features"
   ]
  },
  {
   "cell_type": "code",
   "execution_count": null,
   "metadata": {},
   "outputs": [],
   "source": [
    "img2 = cv2.imread(\"gray.jpg\")\n",
    "\n",
    "hist = cv2.calcHist([img2], [0], None, [5], [0,256])\n",
    "hist = cv2.normalize(hist, dst=hist).flatten()\n",
    "print(hist)\n",
    "\n",
    "cv2.imshow(\"gray image\", img2)\n",
    "cv2.waitKey(0)\n",
    "cv2.destroyAllWindows()"
   ]
  },
  {
   "cell_type": "code",
   "execution_count": null,
   "metadata": {},
   "outputs": [],
   "source": []
  },
  {
   "cell_type": "markdown",
   "metadata": {},
   "source": [
    "## Texture Based Features"
   ]
  },
  {
   "cell_type": "code",
   "execution_count": null,
   "metadata": {},
   "outputs": [],
   "source": [
    "from skimage.feature import local_binary_pattern\n",
    "\n",
    "img_gray = cv2.cvtColor(img3, cv2.COLOR_BGR2GRAY)  # Convert to grayscale\n",
    "\n",
    "lbp = local_binary_pattern(img_gray, 8*3, 3, method=\"uniform\")\n",
    "frequencies = np.unique(lbp.ravel(), return_counts=True)\n",
    "hist = frequencies[1] / sum(frequencies[1])\n",
    "\n",
    "print(hist)"
   ]
  },
  {
   "cell_type": "code",
   "execution_count": null,
   "metadata": {},
   "outputs": [],
   "source": []
  }
 ],
 "metadata": {
  "kernelspec": {
   "display_name": "base",
   "language": "python",
   "name": "python3"
  },
  "language_info": {
   "codemirror_mode": {
    "name": "ipython",
    "version": 3
   },
   "file_extension": ".py",
   "mimetype": "text/x-python",
   "name": "python",
   "nbconvert_exporter": "python",
   "pygments_lexer": "ipython3",
   "version": "3.11.5"
  }
 },
 "nbformat": 4,
 "nbformat_minor": 2
}
